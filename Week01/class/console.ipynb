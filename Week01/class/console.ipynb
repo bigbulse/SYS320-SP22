{
 "cells": [
  {
   "cell_type": "code",
   "execution_count": 4,
   "outputs": [
    {
     "data": {
      "text/plain": "<module 'syslogSU' from 'C:\\\\Users\\\\blasm\\\\PycharmProjects\\\\SYS320-SP22\\\\Week01\\\\class\\\\syslogSU.py'>"
     },
     "execution_count": 4,
     "metadata": {},
     "output_type": "execute_result"
    }
   ],
   "source": [
    "import syslogSSH, syslogSU\n",
    "import importlib\n",
    "importlib.reload(syslogSSH)\n",
    "importlib.reload(syslogSU)"
   ],
   "metadata": {
    "collapsed": false,
    "pycharm": {
     "name": "#%%\n"
    }
   }
  },
  {
   "cell_type": "markdown",
   "source": [
    "# Review system logs\n",
    "### SSH Authentication Failure domains"
   ],
   "metadata": {
    "collapsed": false
   }
  },
  {
   "cell_type": "code",
   "execution_count": 5,
   "outputs": [
    {
     "name": "stdout",
     "output_type": "stream",
     "text": [
      "rhost=218.22.3.51\n",
      "rhost=massive.merukuru.org\n",
      "rhost=68.143.156.89.nw.nuvox.net\n",
      "rhost=218.16.122.48\n",
      "rhost=211.137.205.253\n",
      "rhost=ip-216-69-169-168.ip.secureserver.net\n",
      "rhost=211.46.224.253\n",
      "rhost=207.243.167.114\n",
      "rhost=82.77.200.128\n",
      "rhost=218.188.2.4\n",
      "rhost=adsl-70-242-75-179.dsl.ksc2mo.swbell.net\n",
      "rhost=195.129.24.210\n",
      "rhost=220-135-151-1.hinet-ip.hinet.net\n",
      "rhost=210.76.59.29\n",
      "rhost=65.166.159.14\n",
      "rhost=202.181.236.180\n",
      "rhost=150.183.249.110\n",
      "rhost=biblioteka.wsi.edu.pl\n",
      "rhost=217.60.212.66\n",
      "rhost=200.60.37.201\n",
      "rhost=p15105218.pureserver.info\n",
      "rhost=d211-116-254-214.rev.krline.net\n",
      "rhost=211.9.58.217\n",
      "rhost=60.30.224.116\n",
      "rhost=c9063558.virtua.com.br\n",
      "rhost=211.115.206.155\n",
      "rhost=061092085098.ctinets.com\n",
      "rhost=220.117.241.87\n",
      "rhost=209.152.168.249\n",
      "rhost=61-220-159-99.hinet-ip.hinet.net\n",
      "rhost=zummit.com\n",
      "rhost=csnsu.nsuok.edu\n",
      "rhost=211-76-104-65.ebix.net.tw\n",
      "rhost=n219076184117.netvigator.com\n",
      "rhost=193.110.106.11\n",
      "rhost=202-132-40-29.adsl.ttn.net\n",
      "rhost=h64-187-1-131.gtconnect.net\n",
      "rhost=troi.bluesky-technologies.com\n",
      "rhost=61.53.154.93\n",
      "rhost=218.55.234.102\n",
      "rhost=210.229.150.228\n",
      "rhost=62-192-102-94.dsl.easynet.nl\n",
      "rhost=c51471f2c.cable.wanadoo.nl\n",
      "rhost=212.0.132.20\n",
      "rhost=85.44.47.166\n",
      "rhost=211.214.161.141\n",
      "rhost=203.251.225.101\n"
     ]
    }
   ],
   "source": [
    "syslogSSH.ssh_fail('../../logs/Linux_2k.log',['sshd\\(pam_unix\\).*authentication failure.*'])"
   ],
   "metadata": {
    "collapsed": false,
    "pycharm": {
     "name": "#%%\n"
    }
   }
  },
  {
   "cell_type": "markdown",
   "source": [
    "### SU Open"
   ],
   "metadata": {
    "collapsed": false,
    "pycharm": {
     "name": "#%% md\n"
    }
   }
  },
  {
   "cell_type": "code",
   "execution_count": 29,
   "outputs": [
    {
     "name": "stdout",
     "output_type": "stream",
     "text": [
      "No Results\n"
     ]
    },
    {
     "ename": "SystemExit",
     "evalue": "1",
     "output_type": "error",
     "traceback": [
      "An exception has occurred, use %tb to see the full traceback.\n",
      "\u001B[1;31mSystemExit\u001B[0m\u001B[1;31m:\u001B[0m 1\n"
     ]
    }
   ],
   "source": [
    "syslogSU.su_open('../../logs/Linux_2k.log',['sshd\\(pam_unix\\).*session opened for user.*'])"
   ],
   "metadata": {
    "collapsed": false,
    "pycharm": {
     "name": "#%%\n"
    }
   }
  },
  {
   "cell_type": "code",
   "execution_count": null,
   "outputs": [],
   "source": [],
   "metadata": {
    "collapsed": false,
    "pycharm": {
     "name": "#%%\n"
    }
   }
  }
 ],
 "metadata": {
  "kernelspec": {
   "display_name": "Python 3",
   "language": "python",
   "name": "python3"
  },
  "language_info": {
   "codemirror_mode": {
    "name": "ipython",
    "version": 2
   },
   "file_extension": ".py",
   "mimetype": "text/x-python",
   "name": "python",
   "nbconvert_exporter": "python",
   "pygments_lexer": "ipython2",
   "version": "2.7.6"
  }
 },
 "nbformat": 4,
 "nbformat_minor": 0
}