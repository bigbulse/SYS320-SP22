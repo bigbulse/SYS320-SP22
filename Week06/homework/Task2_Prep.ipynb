{
 "cells": [
  {
   "cell_type": "markdown",
   "metadata": {
    "collapsed": true,
    "pycharm": {
     "name": "#%% md\n"
    }
   },
   "source": [
    "## Task 2: Lists containg commands for Week 7"
   ]
  },
  {
   "cell_type": "code",
   "execution_count": null,
   "outputs": [],
   "source": [
    "bind_files = ['cat /etc/resolv.conf',\n",
    "              'cat /etc/issue',\n",
    "              'cat /etc/passwd',\n",
    "              'cat /etc/shadow']\n",
    "system_cmds = ['uname -a',\n",
    "               'ps aux',\n",
    "               'w',\n",
    "               'id',\n",
    "               'arch']\n",
    "network_cmds = ['hostname -f',\n",
    "                'ip addr show',\n",
    "                'ip ro show',\n",
    "                'ifconfig -a',\n",
    "                'route -n']\n",
    "usr_acc = ['cat /etc/passwd',\n",
    "           'cat /etc/shadow',\n",
    "           'cat /etc/group',\n",
    "           'getent passwd',\n",
    "           'getent group']\n",
    "usr_info = ['ls -alh /home/*/.ssh/',\n",
    "            'cat /home/*/.ssh/authorized_keys',\n",
    "            'cat /home/*/.ssh/known_hosts',\n",
    "            'crontab -l',\n",
    "            'sudo -l']\n",
    "creds = ['cat /home/*/.ssh/id*',\n",
    "         'cat /tmp/krb5cc_*',\n",
    "         'cat /tmp/krb5.keytab',\n",
    "         'cat /home/*/.gnupg/secring.gpgs']\n",
    "configs = [\"ls -aRl /etc/ * awk '$1 ~ /w.$/' * grep -v lrwx 2>/dev/nullte\",\n",
    "           \"cat /etc/issue{,.net}\",\n",
    "           \"cat /etc/crontab\",\n",
    "           \"cat /etc/group\",\n",
    "           \"cat /etc/hosts\"]\n",
    "distro = [\"uname -a\",\n",
    "          \"lsb_release -d\",\n",
    "          \"cat /etc/os-release\",\n",
    "          \"cat /etc/issue\",\n",
    "          \"cat /etc/*release\"]\n",
    "inst_pckgs = [\"dpkg -l\",\n",
    "              'dpkg -l | grep -i “linux-image”',\n",
    "              \"dpkg --get-selections\"]\n",
    "src_pckgs = ['cat /etc/apt/sources.list']\n",
    "imp_files = ['find /var ! -user root -type d -ls',\n",
    "             'ls -alR | grep ^d',\n",
    "             'find /var -type d',\n",
    "             'ls -dl `find /var -type d`',\n",
    "             'ls -dl `find /var -type d` | grep -v root']\n"
   ],
   "metadata": {
    "collapsed": false,
    "pycharm": {
     "name": "#%%\n"
    }
   }
  }
 ],
 "metadata": {
  "kernelspec": {
   "display_name": "Python 3",
   "language": "python",
   "name": "python3"
  },
  "language_info": {
   "codemirror_mode": {
    "name": "ipython",
    "version": 2
   },
   "file_extension": ".py",
   "mimetype": "text/x-python",
   "name": "python",
   "nbconvert_exporter": "python",
   "pygments_lexer": "ipython2",
   "version": "2.7.6"
  }
 },
 "nbformat": 4,
 "nbformat_minor": 0
}