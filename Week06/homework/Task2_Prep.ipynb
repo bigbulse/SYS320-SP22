{
 "cells": [
  {
   "cell_type": "markdown",
   "metadata": {
    "collapsed": true,
    "pycharm": {
     "name": "#%% md\n"
    }
   },
   "source": [
    "## Task 2: Lists containg commands for Week 7"
   ]
  },
  {
   "cell_type": "code",
   "execution_count": null,
   "outputs": [],
   "source": [
    "bind_files = ['cat /etc/resolv.conf', 'cat /etc/motd', 'cat /etc/issue', 'cat /etc/passwd', 'cat /etc/shadow']\n",
    "system_cmds = ['uname -a', 'ps aux', 'top -n 1 -d', 'id', 'arch, uname -m']\n",
    "network_cmds = ['hostname -f', 'ip addr show', 'ip ro show', 'ifconfig -a', 'route -n']\n",
    "usr_acc = ['cat /etc/passwd', 'cat /etc/shadow', '/etc/security/passwd', 'cat /etc/group', 'getent passwd', 'getent group']\n",
    "usr_info = ['ypcat passwd', 'ls -alh /home/*/.ssh/', 'cat /home/*/.ssh/authorized_keys', 'cat /home/*/.ssh/known_hosts', 'cat /home/*/.hist']\n",
    "creds = ['/home/*/.ssh/id*', '/tmp/krb5cc_*', '/tmp/krb5.keytab', '/home/*/.gnupg/secring.gpgs']\n",
    "configs = [\"ls -aRl /etc/ * awk '$1 ~ /w.$/' * grep -v lrwx 2>/dev/nullte\", \"cat /etc/issue{,.net}\", \"cat /etc/master.passwd\", \"cat /etc/group\", \"cat /etc/hosts\"]\n",
    "distro = [\"uname -a\", \"lsb_release -d\", \"/etc/os-release\", \"/etc/issue\", \"cat /etc/*release\"]\n",
    "inst_pckgs = [\"rpm -qa --last | head\", \"yum list | grep installed\", \"dpkg -l\", 'dpkg -l | grep -i “linux-image”', \"dpkg --get-selections\"]\n",
    "src_pckgs = ['cat /etc/apt/sources.list', 'ls -l /etc/yum.repos.d/', 'cat /etc/yum.conf']\n",
    "imp_files = ['ls -dlR */', 'ls -alR | grep ^d', 'find /var -type d', 'ls -dl `find /var -type d`', 'ls -dl `find /var -type d` | grep -v root']\n"
   ],
   "metadata": {
    "collapsed": false,
    "pycharm": {
     "name": "#%%\n"
    }
   }
  }
 ],
 "metadata": {
  "kernelspec": {
   "display_name": "Python 3",
   "language": "python",
   "name": "python3"
  },
  "language_info": {
   "codemirror_mode": {
    "name": "ipython",
    "version": 2
   },
   "file_extension": ".py",
   "mimetype": "text/x-python",
   "name": "python",
   "nbconvert_exporter": "python",
   "pygments_lexer": "ipython2",
   "version": "2.7.6"
  }
 },
 "nbformat": 4,
 "nbformat_minor": 0
}