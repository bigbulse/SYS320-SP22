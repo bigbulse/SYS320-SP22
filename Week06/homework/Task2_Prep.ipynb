{
 "cells": [
  {
   "cell_type": "markdown",
   "metadata": {
    "collapsed": true,
    "pycharm": {
     "name": "#%% md\n"
    }
   },
   "source": [
    "## Task 2: Lists containg commands for Week 7"
   ]
  },
  {
   "cell_type": "code",
   "execution_count": null,
   "outputs": [],
   "source": [
    "bind_files = ['cat /etc/resolv.conf',\n",
    "              'cat /etc/motd',\n",
    "              'cat /etc/issue',\n",
    "              'cat /etc/passwd',\n",
    "              'cat /etc/shadow']\n",
    "system_cmds = ['uname -a',\n",
    "               'ps aux',\n",
    "               'top -n 1 -d',\n",
    "               'id',\n",
    "               'arch']\n",
    "network_cmds = ['hostname -f',\n",
    "                'ip addr show',\n",
    "                'ip ro show',\n",
    "                'ifconfig -a',\n",
    "                'route -n']\n",
    "usr_acc = ['cat /etc/passwd',\n",
    "           'cat /etc/shadow',\n",
    "           '/etc/security/passwd',\n",
    "           'cat /etc/group',\n",
    "           'getent passwd',\n",
    "           'getent group']\n",
    "usr_info = ['ls -alh /home/*/.ssh/',\n",
    "            'cat /home/*/.ssh/authorized_keys',\n",
    "            'cat /home/*/.ssh/known_hosts',\n",
    "            'cat /home/*/.hist',\n",
    "            'find /home/*/.vnc /home/*/.subversion -type f']\n",
    "creds = ['/home/*/.ssh/id*',\n",
    "         '/tmp/krb5cc_*',\n",
    "         '/tmp/krb5.keytab',\n",
    "         '/home/*/.gnupg/secring.gpgs']\n",
    "configs = [\"ls -aRl /etc/ * awk '$1 ~ /w.$/' * grep -v lrwx 2>/dev/nullte\",\n",
    "           \"cat /etc/issue{,.net}\",\n",
    "           \"cat /etc/master.passwd\",\n",
    "           \"cat /etc/group\",\n",
    "           \"cat /etc/hosts\"]\n",
    "distro = [\"uname -a\",\n",
    "          \"lsb_release -d\",\n",
    "          \"/etc/os-release\",\n",
    "          \"/etc/issue\",\n",
    "          \"cat /etc/*release\"]\n",
    "inst_pckgs = [\"rpm -qa --last | head\",\n",
    "              \"yum list | grep installed\",\n",
    "              \"dpkg -l\", 'dpkg -l | grep -i “linux-image”',\n",
    "              \"dpkg --get-selections\"]\n",
    "src_pckgs = ['cat /etc/apt/sources.list',\n",
    "             'ls -l /etc/yum.repos.d/',\n",
    "             'cat /etc/yum.conf']\n",
    "imp_files = ['ls -dlR */',\n",
    "             'ls -alR | grep ^d',\n",
    "             'find /var -type d',\n",
    "             'ls -dl `find /var -type d`',\n",
    "             'ls -dl `find /var -type d` | grep -v root']\n"
   ],
   "metadata": {
    "collapsed": false,
    "pycharm": {
     "name": "#%%\n"
    }
   }
  }
 ],
 "metadata": {
  "kernelspec": {
   "display_name": "Python 3",
   "language": "python",
   "name": "python3"
  },
  "language_info": {
   "codemirror_mode": {
    "name": "ipython",
    "version": 2
   },
   "file_extension": ".py",
   "mimetype": "text/x-python",
   "name": "python",
   "nbconvert_exporter": "python",
   "pygments_lexer": "ipython2",
   "version": "2.7.6"
  }
 },
 "nbformat": 4,
 "nbformat_minor": 0
}