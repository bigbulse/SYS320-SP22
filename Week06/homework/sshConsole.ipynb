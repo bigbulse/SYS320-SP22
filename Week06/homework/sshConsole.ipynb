{
 "cells": [
  {
   "cell_type": "code",
   "execution_count": null,
   "outputs": [],
   "source": [
    "import paramiko\n",
    "import os\n",
    "from os.path import exists\n",
    "from getpass import getpass\n",
    "\n",
    "\n",
    "if os.path.exists(\"ssh_results.txt\"):\n",
    "    user_input = input(\"The file already exists. Enter 'y' to delete the file and continue or any other key to keep the current file\")\n",
    "    if user_input == ('y'):\n",
    "        os.remove(\"ssh_results.txt\")\n",
    "\n",
    "# Create the password prompt\n",
    "thePass = getpass(prompt=\"Please enter your SSH password: \")\n",
    "\n",
    "# Host Information\n",
    "host = \"192.168.1.17\"\n",
    "port = 22\n",
    "username = \"blaise\"\n",
    "password = thePass\n",
    "\n",
    "try:\n",
    "    ssh = paramiko.SSHClient()\n",
    "    ssh.set_missing_host_key_policy(paramiko.AutoAddPolicy)\n",
    "    ssh.connect(host, port, username, password)\n",
    "\n",
    "except paramiko.AuthenticationException:\n",
    "    print(\"Authentication Failed\")"
   ],
   "metadata": {
    "collapsed": false,
    "pycharm": {
     "name": "#%%\n",
     "is_executing": true
    }
   }
  },
  {
   "cell_type": "code",
   "execution_count": null,
   "outputs": [],
   "source": [
    "# Run a command\n",
    "# command = \"ps -ef ; netstat -an ; last -adx\"\n",
    "\n",
    "# Run a list of commands\n",
    "command = ['ps -ef', 'netstat -an --inet','last -adx', 'cut -d: -f1 /etc/passwd']\n",
    "\n",
    "for eachCMD in command:\n",
    "    # Get the output from the command\n",
    "    stdin, stdout, stderr = ssh.exec_command(eachCMD)\n",
    "\n",
    "    # Get results from stdout\n",
    "    lines = stdout.readlines()\n",
    "    # print(lines)\n",
    "\n",
    "    # Covert the list to a string\n",
    "    output = ''.join(lines)\n",
    "    # print(output)\n",
    "\n",
    "    # Header Output\n",
    "    sepHeader = '' + '### BEGIN' + eachCMD + '###\\n\\n'\n",
    "\n",
    "    # Footer Output\n",
    "    sepFooter = '' + '### END' + eachCMD + '###\\n\\n'\n",
    "\n",
    "    # Concatenate the header, output, and footer\n",
    "    cmd_output = sepHeader + output +sepFooter\n",
    "    # print(cmd_output)\n",
    "\n",
    "    # Save command output to a file\n",
    "    with open ('ssh_results.txt', 'a') as f:\n",
    "        f.write(cmd_output)\n",
    "\n",
    "ssh.close()"
   ],
   "metadata": {
    "collapsed": false,
    "pycharm": {
     "name": "#%%\n"
    }
   }
  }
 ],
 "metadata": {
  "kernelspec": {
   "display_name": "Python 3",
   "language": "python",
   "name": "python3"
  },
  "language_info": {
   "codemirror_mode": {
    "name": "ipython",
    "version": 2
   },
   "file_extension": ".py",
   "mimetype": "text/x-python",
   "name": "python",
   "nbconvert_exporter": "python",
   "pygments_lexer": "ipython2",
   "version": "2.7.6"
  }
 },
 "nbformat": 4,
 "nbformat_minor": 0
}