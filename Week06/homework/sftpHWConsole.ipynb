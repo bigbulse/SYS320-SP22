{
 "cells": [
  {
   "cell_type": "code",
   "execution_count": 3,
   "metadata": {
    "collapsed": true
   },
   "outputs": [],
   "source": [
    "import paramiko\n",
    "from os.path import exists\n",
    "import os\n",
    "from getpass import getpass\n",
    "\n",
    "# Checks to see if the results.body file already exists.\n",
    "# if the file does exist then the user has the option to delete it.\n",
    "# the user can also ignore the warnings and append to the existing file.\n",
    "if os.path.exists(\"results.body\"):\n",
    "    user_input = input(\"The file already exists. Enter 'y' to delete the file or any other key to keep and continue:\")\n",
    "    if user_input == ('y'):\n",
    "        os.remove(\"results.body\")\n",
    "\n",
    "# Create the password prompt\n",
    "thePass = getpass(prompt=\"Please enter your SSH password: \")\n",
    "\n",
    "# Host Information\n",
    "host = \"192.168.1.17\"\n",
    "port = 22\n",
    "username = \"blaise\"\n",
    "password = thePass\n",
    "\n",
    "try:\n",
    "    ssh = paramiko.SSHClient()\n",
    "    ssh.set_missing_host_key_policy(paramiko.AutoAddPolicy)\n",
    "    ssh.connect(host, port, username, password)\n",
    "\n",
    "except paramiko.AuthenticationException:\n",
    "    print(\"Authentication Failed\")"
   ]
  },
  {
   "cell_type": "code",
   "execution_count": 4,
   "outputs": [],
   "source": [
    "sftp = ssh.open_sftp()\n",
    "\n",
    "# Set fs.py to a string\n",
    "script = 'fs.py'\n",
    "\n",
    "# Concat the /tmp/ dir to the script\n",
    "# Then upload the script\n",
    "local_path = '/tmp/' + script\n",
    "sftp.put(script, local_path)\n",
    "\n",
    "# Run the uplaoded file\n",
    "command = ['python3 /tmp/fs.py -d /usr/bin']\n",
    "\n",
    "# Loop through the files and download them\n",
    "for eachCMD in command:\n",
    "    # Get the output from the command\n",
    "    stdin, stdout, stderr = ssh.exec_command(eachCMD)\n",
    "\n",
    "    # Get results from stdout\n",
    "    lines = stdout.readlines()\n",
    "    # print(lines)\n",
    "\n",
    "    # Covert the list to a string\n",
    "    output = ''.join(lines)\n",
    "\n",
    "    # Write to a file\n",
    "    with open('results.body', 'a') as f:\n",
    "        f.write(output)\n",
    "\n",
    "\n",
    "ssh.close()"
   ],
   "metadata": {
    "collapsed": false,
    "pycharm": {
     "name": "#%%\n"
    }
   }
  },
  {
   "cell_type": "markdown",
   "source": [],
   "metadata": {
    "collapsed": false
   }
  }
 ],
 "metadata": {
  "kernelspec": {
   "display_name": "Python 3",
   "language": "python",
   "name": "python3"
  },
  "language_info": {
   "codemirror_mode": {
    "name": "ipython",
    "version": 2
   },
   "file_extension": ".py",
   "mimetype": "text/x-python",
   "name": "python",
   "nbconvert_exporter": "python",
   "pygments_lexer": "ipython2",
   "version": "2.7.6"
  }
 },
 "nbformat": 4,
 "nbformat_minor": 0
}