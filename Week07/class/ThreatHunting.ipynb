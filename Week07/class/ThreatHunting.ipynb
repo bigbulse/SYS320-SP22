{
 "cells": [
  {
   "cell_type": "code",
   "execution_count": 11,
   "metadata": {
    "collapsed": true
   },
   "outputs": [],
   "source": [
    "import paramiko\n",
    "from os.path import exists\n",
    "import os\n",
    "from getpass import getpass\n",
    "\n",
    "# Checks to see if the results.body file already exists.\n",
    "# if the file does exist then the user has the option to delete it.\n",
    "# the user can also ignore the warnings and append to the existing file.\n",
    "if os.path.exists(\"results.body\"):\n",
    "    user_input = input(\"The file already exists. Enter 'y' to delete the file or any other key to keep and continue:\")\n",
    "    if user_input == ('y'):\n",
    "        os.remove(\"results.body\")\n",
    "\n",
    "# Create the password prompt\n",
    "thePass = getpass(prompt=\"Please enter your SSH password: \")\n",
    "\n",
    "# Host Information\n",
    "host = \"192.168.6.71\"\n",
    "port = 2222\n",
    "username = \"blaise.notter\"\n",
    "password = thePass\n",
    "\n",
    "try:\n",
    "    ssh = paramiko.SSHClient()\n",
    "    ssh.set_missing_host_key_policy(paramiko.AutoAddPolicy)\n",
    "    ssh.connect(host, port, username, password)\n",
    "\n",
    "except paramiko.AuthenticationException:\n",
    "    print(\"Authentication Failed\")"
   ]
  },
  {
   "cell_type": "code",
   "execution_count": 12,
   "outputs": [
    {
     "name": "stdout",
     "output_type": "stream",
     "text": [
      "['[sudo] password for blaise.notter: sudo: /home/blaise.notter/kraken: command not found\\n']\n",
      "\n"
     ]
    }
   ],
   "source": [
    "sftp = ssh.open_sftp()\n",
    "\n",
    "# Set fs.py to a string\n",
    "script = 'kraken'\n",
    "\n",
    "# Concat my remote home dir to the script\n",
    "# Then upload the script\n",
    "remote_path = '/home/blaise.notter/' + script\n",
    "sftp.put(script, remote_path)\n",
    "\n",
    "# Run the uplaoded file\n",
    "command = ['sudo -S /home/blaise.notter/kraken --folder /usr/bin --folder  --folder /usr/sbin/   --folder /usr/local/bin  --folder /sbin  --folder /usr/local/sbin  --folder /bin']\n",
    "\n",
    "# Loop through the files and download them\n",
    "for eachCMD in command:\n",
    "    # Get the output from the command\n",
    "    stdin, stdout, stderr = ssh.exec_command(eachCMD)\n",
    "\n",
    "    # Input password to run command as sudo, including a newline\n",
    "    # character that provides 'Enter' as if you were typing it on a keyboard\n",
    "    stdin.write(thePass + \"\\n\")\n",
    "\n",
    "    # Get results from stdout\n",
    "    lines = stdout.readlines()\n",
    "    # print(lines)\n",
    "\n",
    "    error = stderr.readlines()\n",
    "    print(error)\n",
    "\n",
    "    # Covert the list to a string\n",
    "    output = ''.join(lines)\n",
    "\n",
    "    print(output)\n",
    "    # Write to a file\n",
    "    #with open('results.body', 'a') as f:\n",
    "    #    f.write(output)\n",
    "\n",
    "\n",
    "ssh.close()"
   ],
   "metadata": {
    "collapsed": false,
    "pycharm": {
     "name": "#%%\n"
    }
   }
  },
  {
   "cell_type": "markdown",
   "source": [],
   "metadata": {
    "collapsed": false
   }
  }
 ],
 "metadata": {
  "kernelspec": {
   "display_name": "Python 3",
   "language": "python",
   "name": "python3"
  },
  "language_info": {
   "codemirror_mode": {
    "name": "ipython",
    "version": 2
   },
   "file_extension": ".py",
   "mimetype": "text/x-python",
   "name": "python",
   "nbconvert_exporter": "python",
   "pygments_lexer": "ipython2",
   "version": "2.7.6"
  }
 },
 "nbformat": 4,
 "nbformat_minor": 0
}