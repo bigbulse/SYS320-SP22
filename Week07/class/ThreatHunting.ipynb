{
 "cells": [
  {
   "cell_type": "markdown",
   "source": [],
   "metadata": {
    "collapsed": false
   }
  },
  {
   "cell_type": "code",
   "execution_count": 134,
   "outputs": [],
   "source": [
    "import paramiko\n",
    "import os\n",
    "from getpass import getpass\n",
    "\n",
    "# Checks to see if the results files already exist.\n",
    "# if the file does exist then the user has the option to delete it.\n",
    "# the user can also ignore the warnings and append to the existing file.\n",
    "flist = [\"kraken_results.body\", \"lsof_results\"]\n",
    "for eachFile in flist:\n",
    "    if os.path.exists(eachFile):\n",
    "        # If so ask user to delete file\n",
    "        user_input = input(\"The file: \"+ eachFile + \" already exists. Enter 'y' to delete it:\")\n",
    "\n",
    "        # If yes delete the file\n",
    "        if user_input == \"y\":\n",
    "            os.remove(eachFile)\n",
    "\n",
    "# Create the password prompt\n",
    "thePass = getpass(prompt=\"Please enter your SSH password: \")\n",
    "\n",
    "# Host Information\n",
    "host = \"192.168.6.71\"\n",
    "port = 2222\n",
    "username = \"blaise.notter\"\n",
    "password = thePass\n",
    "\n",
    "try:\n",
    "    ssh = paramiko.SSHClient()\n",
    "    ssh.set_missing_host_key_policy(paramiko.AutoAddPolicy)\n",
    "    ssh.connect(host, port, username, password)\n",
    "\n",
    "except paramiko.AuthenticationException:\n",
    "    print(\"Authentication Failed\")"
   ],
   "metadata": {
    "collapsed": false,
    "pycharm": {
     "name": "#%%\n"
    }
   }
  },
  {
   "cell_type": "markdown",
   "metadata": {
    "collapsed": true,
    "pycharm": {
     "name": "#%% md\n"
    }
   },
   "source": [
    "## Task 2: Uploading the Kraken Binary and running it against the remote system"
   ]
  },
  {
   "cell_type": "code",
   "execution_count": 135,
   "outputs": [
    {
     "name": "stdout",
     "output_type": "stream",
     "text": [
      "### BEGIN sudo -S chmod +x kraken###\n",
      "\n",
      "### END sudo -S chmod +x kraken###\n",
      "\n",
      "\n",
      "### BEGIN sudo -S ./kraken --folder /usr/bin --folder  --folder /usr/sbin/   --folder /usr/local/bin  --folder /sbin  --folder /usr/local/sbin  --folder /bin###\n",
      "\n",
      "\u001B[36mINFO\u001B[0m[0000] Looking for configuration file with name config.yaml \n",
      "\u001B[36mINFO\u001B[0m[0000] No configuration file found, generating a default one... \n",
      "\u001B[36mINFO\u001B[0m[0000] Loading Yara rules...                        \n",
      "\u001B[36mINFO\u001B[0m[0000] Scanning running processes...                \n",
      "\u001B[33mWARN\u001B[0m[0004] DETECTION! Malicious process detected as foundGoBinary  \u001B[33mpid\u001B[0m=3138 \u001B[33mprocess\u001B[0m=ls\n",
      "\u001B[33mWARN\u001B[0m[0005] DETECTION! Malicious process detected as foundGoBinary  \u001B[33mpid\u001B[0m=25680 \u001B[33mprocess\u001B[0m=snapd\n",
      "\u001B[36mINFO\u001B[0m[0014] Scanning autoruns...                         \n",
      "\u001B[33mWARN\u001B[0m[0015] DETECTION! Malicious autorun detected as foundGoBinary  \u001B[33mimage_path\u001B[0m=/usr/bin/snap \u001B[33mtype\u001B[0m=systemd\n",
      "\u001B[33mWARN\u001B[0m[0015] DETECTION! Malicious autorun detected as foundGoBinary  \u001B[33mimage_path\u001B[0m=/usr/bin/snap \u001B[33mtype\u001B[0m=systemd\n",
      "\u001B[36mINFO\u001B[0m[0016] Scanning the filesystem (this can take several minutes)... \n",
      "\u001B[31mERRO\u001B[0m[0016] Some malicious artifacts have been detected on this system: \n",
      "\u001B[31mERRO\u001B[0m[0016] Found detection for foundGoBinary            \n",
      "\u001B[31mERRO\u001B[0m[0016] Found detection for foundGoBinary            \n",
      "\u001B[31mERRO\u001B[0m[0016] Found detection for foundGoBinary            \n",
      "\u001B[31mERRO\u001B[0m[0016] Found detection for foundGoBinary            \n",
      "### END sudo -S ./kraken --folder /usr/bin --folder  --folder /usr/sbin/   --folder /usr/local/bin  --folder /sbin  --folder /usr/local/sbin  --folder /bin###\n",
      "\n",
      "\n"
     ]
    }
   ],
   "source": [
    "sftp = ssh.open_sftp()\n",
    "\n",
    "# Set Kraken as a string\n",
    "script = 'kraken'\n",
    "\n",
    "# Concat my remote home dir to the script\n",
    "# Then upload the script\n",
    "remote_path = '/home/blaise.notter/' + script\n",
    "sftp.put(script, remote_path)\n",
    "\n",
    "# Run the Kraken file against the host as root\n",
    "command = ['sudo -S chmod +x kraken','sudo -S ./kraken --folder /usr/bin --folder  --folder /usr/sbin/   --folder /usr/local/bin  --folder /sbin  --folder /usr/local/sbin  --folder /bin']\n",
    "\n",
    "# Loop through the files and download them\n",
    "for eachCMD in command:\n",
    "    # Get the output from the command\n",
    "    stdin, stdout, stderr = ssh.exec_command(eachCMD)\n",
    "\n",
    "    # Input password to run command as sudo, including a newline\n",
    "    # character that provides 'Enter' as if you were typing it on a keyboard\n",
    "    stdin.write(thePass + \"\\n\")\n",
    "\n",
    "    # Get results from stdout\n",
    "    lines = stdout.readlines()\n",
    "    # print(lines)\n",
    "\n",
    "    # Covert the list to a string\n",
    "    output = ''.join(lines)\n",
    "\n",
    "    # Header Output\n",
    "    sepHeader = '' + '### BEGIN ' + eachCMD + '###\\n\\n'\n",
    "\n",
    "    # Footer Output\n",
    "    sepFooter = '' + '### END ' + eachCMD + '###\\n\\n'\n",
    "\n",
    "    # Concatenate the header, output, and footer\n",
    "    cmd_output = sepHeader + output +sepFooter\n",
    "\n",
    "    # Write to a file\n",
    "    with open('kraken_results.body', 'a') as f:\n",
    "        f.write(cmd_output)\n",
    "\n",
    "    # Print the output for quick refrence\n",
    "    print(cmd_output)"
   ],
   "metadata": {
    "collapsed": false,
    "pycharm": {
     "name": "#%%\n"
    }
   }
  },
  {
   "cell_type": "markdown",
   "source": [
    "## Task 3: Look for any suspicious PIDs in the Kraken results"
   ],
   "metadata": {
    "collapsed": false,
    "pycharm": {
     "name": "#%% md\n"
    }
   }
  },
  {
   "cell_type": "code",
   "execution_count": 136,
   "outputs": [
    {
     "name": "stdout",
     "output_type": "stream",
     "text": [
      "### BEGIN sudo -S ./kraken --folder /usr/bin --folder  --folder /usr/sbin/   --folder /usr/local/bin  --folder /sbin  --folder /usr/local/sbin  --folder /bin###\n",
      "\n",
      "COMMAND  PID     USER   FD      TYPE DEVICE SIZE/OFF   NODE NAME\n",
      "ls      3138 p.dalton  cwd       DIR    8,1     4096 258130 /home/p.dalton/test-lk\n",
      "ls      3138 p.dalton  rtd       DIR    8,1     4096      2 /\n",
      "ls      3138 p.dalton  txt       REG    8,1  6597697 258133 /usr/local/bin/ls\n",
      "ls      3138 p.dalton  DEL       REG    8,1            3453 /usr/lib/x86_64-linux-gnu/libc-2.31.so\n",
      "ls      3138 p.dalton  DEL       REG    8,1            3466 /usr/lib/x86_64-linux-gnu/libpthread-2.31.so\n",
      "ls      3138 p.dalton  DEL       REG    8,1            3449 /usr/lib/x86_64-linux-gnu/ld-2.31.so\n",
      "ls      3138 p.dalton    0r      CHR    1,3      0t0      6 /dev/null\n",
      "ls      3138 p.dalton    1w      REG    8,1       85 258135 /home/p.dalton/test-lk/.d.log\n",
      "ls      3138 p.dalton    2w      REG    8,1       85 258135 /home/p.dalton/test-lk/.d.log\n",
      "ls      3138 p.dalton    3r      CHR    1,3      0t0      6 /dev/null\n",
      "ls      3138 p.dalton    4u      REG    8,1        4 258134 /home/p.dalton/test-lk/d.pid\n",
      "ls      3138 p.dalton    5u     IPv6  33422      0t0    TCP *:http-alt (LISTEN)\n",
      "ls      3138 p.dalton    7u  a_inode   0,14        0  10376 [eventpoll]\n",
      "ls      3138 p.dalton    8r     FIFO   0,13      0t0  33424 pipe\n",
      "ls      3138 p.dalton    9w     FIFO   0,13      0t0  33424 pipe\n",
      "### END sudo -S ./kraken --folder /usr/bin --folder  --folder /usr/sbin/   --folder /usr/local/bin  --folder /sbin  --folder /usr/local/sbin  --folder /bin###\n",
      "\n",
      "\n"
     ]
    }
   ],
   "source": [
    "# Suspicious process id\n",
    "pid = \"3138\"\n",
    "\n",
    "# Run the lsof command against the discovered pid\n",
    "command = 'sudo -S lsof -p ' + pid\n",
    "\n",
    "# Get the output from the command\n",
    "stdin, stdout, stderr = ssh.exec_command(command)\n",
    "\n",
    "# Input password to run command as sudo, including a newline\n",
    "# character that provides 'Enter' as if you were typing it on a keyboard\n",
    "stdin.write(thePass + \"\\n\")\n",
    "\n",
    "# Get results from stdout\n",
    "lines = stdout.readlines()\n",
    "# print(lines)\n",
    "\n",
    "# Covert the list to a string\n",
    "output = ''.join(lines)\n",
    "\n",
    "# Header Output\n",
    "sepHeader = '' + '### BEGIN ' + eachCMD + '###\\n\\n'\n",
    "\n",
    "# Footer Output\n",
    "sepFooter = '' + '### END ' + eachCMD + '###\\n\\n'\n",
    "\n",
    "# Concatenate the header, output, and footer\n",
    "cmd_output = sepHeader + output +sepFooter\n",
    "\n",
    "# Write to a file\n",
    "with open('lsof_results', 'a') as f:\n",
    "    f.write(cmd_output)\n",
    "\n",
    "# Print the output\n",
    "print(cmd_output)"
   ],
   "metadata": {
    "collapsed": false,
    "pycharm": {
     "name": "#%%\n"
    }
   }
  },
  {
   "cell_type": "markdown",
   "source": [
    "## Task 4: Download any associated suspicious files, binaries, or/and logs"
   ],
   "metadata": {
    "collapsed": false
   }
  },
  {
   "cell_type": "code",
   "execution_count": 137,
   "outputs": [],
   "source": [
    "# List of sus files to download from the host\n",
    "files = ['/home/p.dalton/test-lk/.d.log', '/home/p.dalton/test-lk/d.pid']\n",
    "\n",
    "# Loop through the files and download them\n",
    "for eachFile in files:\n",
    "\n",
    "    # Create a list from the filename\n",
    "    x = eachFile.split(\"/\")\n",
    "\n",
    "    # -1 is used to pluck the last element in a list.\n",
    "    filename = x[-1]\n",
    "\n",
    "    # Local path to store files\n",
    "    local_path = \"remote_files/\" + filename\n",
    "\n",
    "    sftp.get(eachFile, local_path)"
   ],
   "metadata": {
    "collapsed": false,
    "pycharm": {
     "name": "#%%\n"
    }
   }
  },
  {
   "cell_type": "markdown",
   "source": [
    "## Task 5: Check for ThugStyle activity in other places"
   ],
   "metadata": {
    "collapsed": false
   }
  },
  {
   "cell_type": "code",
   "execution_count": 138,
   "outputs": [],
   "source": [
    "# Commands to be run against the host\n",
    "# These are files needed for the investigation\n",
    "# They are moved to a usr owned dir and downloaded below\n",
    "command = ['sudo -S dir /home/p.dalton/ > /home/blaise.notter/user_home.txt','sudo -S ps aux > /home/blaise.notter/processes.txt','sudo -S cp /var/log/auth.log .', 'sudo -S chmod +r auth.log', 'sudo -S cp /home/p.dalton/aqwerpuqwerj .', 'sudo -S chmod +r aqwerpuqwerj']\n",
    "\n",
    "# Loop through the files and download them\n",
    "for eachCMD in command:\n",
    "    # Get the output from the command\n",
    "    stdin, stdout, stderr = ssh.exec_command(eachCMD)\n",
    "\n",
    "    # Input password to run command as sudo, including a newline\n",
    "    # character that provides 'Enter' as if you were typing it on a keyboard\n",
    "    stdin.write(thePass + \"\\n\")\n",
    "\n",
    "\n",
    "# List of files to download\n",
    "files = ['/etc/passwd', '/home/blaise.notter/auth.log','/home/blaise.notter/processes.txt', '/home/blaise.notter/user_home.txt', '/home/blaise.notter/aqwerpuqwerj']\n",
    "\n",
    "# Loop through the files and download them\n",
    "for eachFile in files:\n",
    "\n",
    "    # Create a list from the filename\n",
    "    x = eachFile.split(\"/\")\n",
    "\n",
    "    # -1 is used to pluck the last element in a list.\n",
    "    filename = x[-1]\n",
    "\n",
    "    # Local path to store files\n",
    "    local_path = \"remote_files/\" + filename\n",
    "\n",
    "    # Pulling the files from the remote host\n",
    "    sftp.get(eachFile, local_path)"
   ],
   "metadata": {
    "collapsed": false,
    "pycharm": {
     "name": "#%%\n"
    }
   }
  },
  {
   "cell_type": "markdown",
   "source": [
    "**What is the process name?**\n",
    "The \"go-daemon sample\"\n",
    "\n",
    "**Which user is running the process?**\n",
    "p.dalton\n",
    "\n",
    "**Has the user logged in before via SSH?**\n",
    "Yes\n",
    "\n",
    "**When did the user login?**\n",
    "Feb 27 04:44:14\n",
    "\n",
    "**How long was the login session?**\n",
    "10 seconds. However, he logs back in few more times shortly after for durations of around 10 seconds.\n",
    "\n",
    "**What is located in the unauthorized user’s home directory?**\n",
    "A directory called `test-lk/` and a file named \"aqwerpuqwerj\". I updated my code after seeing this file to include it in the downloads.\n"
   ],
   "metadata": {
    "collapsed": false
   }
  },
  {
   "cell_type": "code",
   "execution_count": 139,
   "outputs": [],
   "source": [
    "ssh.close()"
   ],
   "metadata": {
    "collapsed": false,
    "pycharm": {
     "name": "#%%\n"
    }
   }
  },
  {
   "cell_type": "markdown",
   "source": [
    "## Reflection\n",
    "**Based on what you discovered and the information in the threat report, what is your conclusion about the host you analyzed?**\n",
    "Based on the information and the evidence discovered in this investigation, I would say the host was possibly hit by the threat actor ThugStyle. The user account matches the format (x.xxxxx), the file discovered in the home directory matched with previous reports (\"executables were discovered with a high entropy (random) filename but have only been seen in lowercase letters between 6 and 17 character\"), and the process had made refrence to Go with its name. The Kraken scan also showed GoBinaries detected.\n",
    "\n",
    "**What did you like the most and least about this assignment?**\n",
    "The assignment was pretty enjoyable, I liked that it simulated a real investigation. I don't know what I didn't like about this assignent. It was just fun.\n",
    "\n",
    "**What additional questions do you have?**\n",
    "I was curious to see what the executable was that I found in the user's home directory. I am too afraid to run it and see what it does, well also it's just smart move to run unknown executables."
   ],
   "metadata": {
    "collapsed": false,
    "pycharm": {
     "name": "#%% md\n"
    }
   }
  }
 ],
 "metadata": {
  "kernelspec": {
   "display_name": "Python 3",
   "language": "python",
   "name": "python3"
  },
  "language_info": {
   "codemirror_mode": {
    "name": "ipython",
    "version": 2
   },
   "file_extension": ".py",
   "mimetype": "text/x-python",
   "name": "python",
   "nbconvert_exporter": "python",
   "pygments_lexer": "ipython2",
   "version": "2.7.6"
  }
 },
 "nbformat": 4,
 "nbformat_minor": 0
}