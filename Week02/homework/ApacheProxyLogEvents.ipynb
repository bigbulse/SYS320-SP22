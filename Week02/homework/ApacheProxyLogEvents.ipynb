{
 "cells": [
  {
   "cell_type": "code",
   "execution_count": 32,
   "outputs": [
    {
     "data": {
      "text/plain": "<module 'apacheQQ' from 'C:\\\\Users\\\\blasm\\\\PycharmProjects\\\\SYS320-SP22\\\\Week02\\\\homework\\\\apacheQQ.py'>"
     },
     "execution_count": 32,
     "metadata": {},
     "output_type": "execute_result"
    }
   ],
   "source": [
    "import apacheQQ\n",
    "import importlib\n",
    "importlib.reload(apacheQQ)"
   ],
   "metadata": {
    "collapsed": false,
    "pycharm": {
     "name": "#%%\n"
    }
   }
  },
  {
   "cell_type": "markdown",
   "source": [
    "# APACHE/Proxy\n",
    "### Filename, Remote Host, Bytes Sent, Bytes Received"
   ],
   "metadata": {
    "collapsed": false
   }
  },
  {
   "cell_type": "code",
   "execution_count": 33,
   "outputs": [
    {
     "name": "stdout",
     "output_type": "stream",
     "text": [
      "QQ.exe tcpconn3.tencent.com:443 149 121\n",
      "QQ.exe tcpconn3.tencent.com:80 0 0\n",
      "QQ.exe cgi.qqweb.qq.com:80 477 448\n",
      "QQ.exe tcpconn6.tencent.com:80 0 0\n",
      "QQProtectUpd.exe qdun-data.qq.com:443 261 70\n",
      "QQ.exe tcpconn6.tencent.com:443 0 0\n",
      "QQ.exe tcpconn.tencent.com:80 133 0\n"
     ]
    }
   ],
   "source": [
    "apacheQQ.qq_filename('../../logs/Proxifier_2k.log', 'proxy', 'qq')"
   ],
   "metadata": {
    "collapsed": false,
    "pycharm": {
     "name": "#%%\n"
    }
   }
  },
  {
   "cell_type": "markdown",
   "source": [
    "### Proxy Open"
   ],
   "metadata": {
    "collapsed": false,
    "pycharm": {
     "name": "#%% md\n"
    }
   }
  },
  {
   "cell_type": "code",
   "execution_count": 34,
   "outputs": [
    {
     "name": "stdout",
     "output_type": "stream",
     "text": [
      "QQ.exe cgi.qqweb.qq.com:80 proxy.cse.cuhk.edu.hk:5070\n",
      "QQProtectUpd.exe qdun-data.qq.com:443 proxy.cse.cuhk.edu.hk:5070\n",
      "QQ.exe tcpconn3.tencent.com:443 proxy.cse.cuhk.edu.hk:5070\n",
      "QQPlayer.exe btrace.qq.com:80 proxy.cse.cuhk.edu.hk:5070\n",
      "QQ.exe tcpconn6.tencent.com:80 proxy.cse.cuhk.edu.hk:5070\n",
      "QQ.exe 183.60.49.182:443 proxy.cse.cuhk.edu.hk:5070\n",
      "QQ.exe tcpconn6.tencent.com:443 proxy.cse.cuhk.edu.hk:5070\n",
      "QQ.exe tcpconn.tencent.com:80 proxy.cse.cuhk.edu.hk:5070\n"
     ]
    }
   ],
   "source": [
    "apacheQQ.qq_open('../../logs/Proxifier_2k.log', 'proxy', 'open')"
   ],
   "metadata": {
    "collapsed": false,
    "pycharm": {
     "name": "#%%\n"
    }
   }
  },
  {
   "cell_type": "markdown",
   "source": [
    "### What is your interpretation of the results that you discovered (Did the files match known threat intell information?  Was there activity to and from the same remote host?)\n",
    "Yes, this does seem to match with known threat intel information. Yes there was activity to and from the same remote host, Tencent.com and proxy.cse.cuhk.edu.hk for example"
   ],
   "metadata": {
    "collapsed": false,
    "pycharm": {
     "name": "#%% md\n"
    }
   }
  },
  {
   "cell_type": "markdown",
   "source": [
    "### What did you like the most and least about this assignment?\n",
    "I liked the file parsing more in this assigment compared to the last one. What I liked least was that the file was a little jarring at first but that just highlights the importance of making these scripts"
   ],
   "metadata": {
    "collapsed": false,
    "pycharm": {
     "name": "#%% md\n"
    }
   }
  },
  {
   "cell_type": "markdown",
   "source": [
    "### What additional questions do you have about this week's material?\n",
    "No further questions"
   ],
   "metadata": {
    "collapsed": false,
    "pycharm": {
     "name": "#%% md\n"
    }
   }
  }
 ],
 "metadata": {
  "kernelspec": {
   "display_name": "Python 3",
   "language": "python",
   "name": "python3"
  },
  "language_info": {
   "codemirror_mode": {
    "name": "ipython",
    "version": 2
   },
   "file_extension": ".py",
   "mimetype": "text/x-python",
   "name": "python",
   "nbconvert_exporter": "python",
   "pygments_lexer": "ipython2",
   "version": "2.7.6"
  }
 },
 "nbformat": 4,
 "nbformat_minor": 0
}